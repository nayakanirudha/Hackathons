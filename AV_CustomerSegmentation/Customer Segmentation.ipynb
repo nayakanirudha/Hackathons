{
 "cells": [
  {
   "cell_type": "markdown",
   "metadata": {},
   "source": [
    "### Problem Statement "
   ]
  },
  {
   "cell_type": "markdown",
   "metadata": {},
   "source": [
    "An automobile company has plans to enter new markets with their existing products (P1, P2, P3, P4 and P5). After intensive market research, they’ve deduced that the behavior of new market is similar to their existing market. \n",
    "In their existing market, the sales team has classified all customers into 4 segments (A, B, C, D ). Then, they performed segmented outreach and communication for different segment of customers. This strategy has work exceptionally well for them. They plan to use the same strategy on new markets and have identified 2627 new potential customers. \n",
    "You are required to help the manager to predict the right group of the new customers."
   ]
  },
  {
   "cell_type": "markdown",
   "metadata": {},
   "source": [
    "### Data Dictionary"
   ]
  },
  {
   "cell_type": "markdown",
   "metadata": {},
   "source": [
    "|            Variable    \t|                      Type    \t|                                                               Definition    \t|\n",
    "|-----------------------:\t|-----------------------------:\t|----------------------------------------------------------------------------:\t|\n",
    "|                  ID    \t|             Text / String    \t|                                                              Unique   ID    \t|\n",
    "|              Gender    \t|        Binary Categorical    \t|                                                 Gender   of the customer    \t|\n",
    "|        Ever_Married    \t|        Binary Categorical    \t|                                         Marital   status of the customer    \t|\n",
    "|                 Age    \t|          Numeric Discrete    \t|                                                    Age   of the customer    \t|\n",
    "|           Graduated    \t|        Binary Categorical    \t|                                            Is   the customer a graduate?    \t|\n",
    "|          Profession    \t|      Multiple Categorical    \t|                                             Profession   of the customer    \t|\n",
    "|     Work_Experience    \t|          Numeric Discrete    \t|                                               Work   Experience in years    \t|\n",
    "|      Spending_Score    \t|      Multiple Categorical    \t|                                         Spending   score of the customer    \t|\n",
    "|         Family_Size    \t|          Numeric Discrete    \t|     Number   of family members for the customer (including the customer)    \t|\n",
    "|               Var_1    \t|     Multiple Categorical     \t|                                   Anonymised   Category for the customer    \t|\n",
    "|        Segmentation    \t|      Multiple Categorical    \t|                              (target)   Customer Segment of the customer    \t|"
   ]
  },
  {
   "cell_type": "markdown",
   "metadata": {},
   "source": [
    "### Import Libraries"
   ]
  },
  {
   "cell_type": "code",
   "execution_count": 4,
   "metadata": {
    "scrolled": false
   },
   "outputs": [],
   "source": [
    "import numpy as np\n",
    "import matplotlib.pyplot as plt\n",
    "import pandas as pd\n",
    "import seaborn as sns\n",
    "import os\n",
    "\n",
    "import warnings\n",
    "warnings.filterwarnings('ignore')"
   ]
  },
  {
   "cell_type": "markdown",
   "metadata": {},
   "source": [
    "### Import Dataset"
   ]
  },
  {
   "cell_type": "code",
   "execution_count": 11,
   "metadata": {
    "scrolled": false
   },
   "outputs": [],
   "source": [
    "os.chdir(r'C:/Anirudha/Projects/Hackathons/AV_CustomerSegmentation/')\n",
    "train = pd.read_csv('Train_aBjfeNk.csv')\n",
    "test = pd.read_csv('Test_LqhgPWU.csv')\n",
    "\n",
    "# Independent Variables \n",
    "text_vars = ['ID']\n",
    "cat_vars = ['Gender','Ever_Married','Graduated','Profession','Spending_Score','Var_1']\n",
    "num_vars = ['Age','Work_Experience','Family_Size']\n",
    "x_cols = text_vars + cat_vars + num_vars\n",
    "\n",
    "# Dependent Variables\n",
    "y_cols = ['Segmentation']"
   ]
  },
  {
   "cell_type": "code",
   "execution_count": 13,
   "metadata": {
    "scrolled": false
   },
   "outputs": [
    {
     "name": "stdout",
     "output_type": "stream",
     "text": [
      "<class 'pandas.core.frame.DataFrame'>\n",
      "RangeIndex: 8068 entries, 0 to 8067\n",
      "Data columns (total 11 columns):\n",
      "ID                 8068 non-null int64\n",
      "Gender             8068 non-null object\n",
      "Ever_Married       7928 non-null object\n",
      "Age                8068 non-null int64\n",
      "Graduated          7990 non-null object\n",
      "Profession         7944 non-null object\n",
      "Work_Experience    7239 non-null float64\n",
      "Spending_Score     8068 non-null object\n",
      "Family_Size        7733 non-null float64\n",
      "Var_1              7992 non-null object\n",
      "Segmentation       8068 non-null object\n",
      "dtypes: float64(2), int64(2), object(7)\n",
      "memory usage: 693.5+ KB\n"
     ]
    }
   ],
   "source": [
    "train.info()"
   ]
  },
  {
   "cell_type": "code",
   "execution_count": 72,
   "metadata": {
    "scrolled": false
   },
   "outputs": [
    {
     "data": {
      "text/plain": [
       "Segmentation\n",
       "A    1972\n",
       "B    1858\n",
       "C    1970\n",
       "D    2268\n",
       "Name: ID, dtype: int64"
      ]
     },
     "execution_count": 72,
     "metadata": {},
     "output_type": "execute_result"
    }
   ],
   "source": [
    "train.groupby(y_cols)[\"ID\"].count()"
   ]
  },
  {
   "cell_type": "markdown",
   "metadata": {},
   "source": [
    "### Exploratory Data Analysis"
   ]
  },
  {
   "cell_type": "markdown",
   "metadata": {},
   "source": [
    "#### Univariate Analysis"
   ]
  },
  {
   "cell_type": "markdown",
   "metadata": {},
   "source": [
    "##### Numerical"
   ]
  },
  {
   "cell_type": "code",
   "execution_count": 52,
   "metadata": {
    "scrolled": false
   },
   "outputs": [
    {
     "data": {
      "text/html": [
       "<div>\n",
       "<style scoped>\n",
       "    .dataframe tbody tr th:only-of-type {\n",
       "        vertical-align: middle;\n",
       "    }\n",
       "\n",
       "    .dataframe tbody tr th {\n",
       "        vertical-align: top;\n",
       "    }\n",
       "\n",
       "    .dataframe thead tr th {\n",
       "        text-align: left;\n",
       "    }\n",
       "\n",
       "    .dataframe thead tr:last-of-type th {\n",
       "        text-align: right;\n",
       "    }\n",
       "</style>\n",
       "<table border=\"1\" class=\"dataframe\">\n",
       "  <thead>\n",
       "    <tr>\n",
       "      <th></th>\n",
       "      <th colspan=\"2\" halign=\"left\">Age</th>\n",
       "      <th colspan=\"2\" halign=\"left\">Work_Experience</th>\n",
       "      <th colspan=\"2\" halign=\"left\">Family_Size</th>\n",
       "    </tr>\n",
       "    <tr>\n",
       "      <th></th>\n",
       "      <th>mean</th>\n",
       "      <th>count_nonzero</th>\n",
       "      <th>mean</th>\n",
       "      <th>count_nonzero</th>\n",
       "      <th>mean</th>\n",
       "      <th>count_nonzero</th>\n",
       "    </tr>\n",
       "    <tr>\n",
       "      <th>Segmentation</th>\n",
       "      <th></th>\n",
       "      <th></th>\n",
       "      <th></th>\n",
       "      <th></th>\n",
       "      <th></th>\n",
       "      <th></th>\n",
       "    </tr>\n",
       "  </thead>\n",
       "  <tbody>\n",
       "    <tr>\n",
       "      <td>A</td>\n",
       "      <td>44.924949</td>\n",
       "      <td>1972</td>\n",
       "      <td>2.874578</td>\n",
       "      <td>1430.0</td>\n",
       "      <td>2.439531</td>\n",
       "      <td>1972.0</td>\n",
       "    </tr>\n",
       "    <tr>\n",
       "      <td>B</td>\n",
       "      <td>48.200215</td>\n",
       "      <td>1858</td>\n",
       "      <td>2.378151</td>\n",
       "      <td>1300.0</td>\n",
       "      <td>2.696970</td>\n",
       "      <td>1858.0</td>\n",
       "    </tr>\n",
       "    <tr>\n",
       "      <td>C</td>\n",
       "      <td>49.144162</td>\n",
       "      <td>1970</td>\n",
       "      <td>2.240771</td>\n",
       "      <td>1351.0</td>\n",
       "      <td>2.974559</td>\n",
       "      <td>1970.0</td>\n",
       "    </tr>\n",
       "    <tr>\n",
       "      <td>D</td>\n",
       "      <td>33.390212</td>\n",
       "      <td>2268</td>\n",
       "      <td>3.021717</td>\n",
       "      <td>1669.0</td>\n",
       "      <td>3.232624</td>\n",
       "      <td>2268.0</td>\n",
       "    </tr>\n",
       "  </tbody>\n",
       "</table>\n",
       "</div>"
      ],
      "text/plain": [
       "                    Age               Work_Experience                \\\n",
       "                   mean count_nonzero            mean count_nonzero   \n",
       "Segmentation                                                          \n",
       "A             44.924949          1972        2.874578        1430.0   \n",
       "B             48.200215          1858        2.378151        1300.0   \n",
       "C             49.144162          1970        2.240771        1351.0   \n",
       "D             33.390212          2268        3.021717        1669.0   \n",
       "\n",
       "             Family_Size                \n",
       "                    mean count_nonzero  \n",
       "Segmentation                            \n",
       "A               2.439531        1972.0  \n",
       "B               2.696970        1858.0  \n",
       "C               2.974559        1970.0  \n",
       "D               3.232624        2268.0  "
      ]
     },
     "execution_count": 52,
     "metadata": {},
     "output_type": "execute_result"
    }
   ],
   "source": [
    "train.groupby(\"Segmentation\").agg([np.mean,np.count_nonzero])[num_vars]"
   ]
  },
  {
   "cell_type": "code",
   "execution_count": 149,
   "metadata": {
    "scrolled": false
   },
   "outputs": [
    {
     "data": {
      "text/html": [
       "<div>\n",
       "<style scoped>\n",
       "    .dataframe tbody tr th:only-of-type {\n",
       "        vertical-align: middle;\n",
       "    }\n",
       "\n",
       "    .dataframe tbody tr th {\n",
       "        vertical-align: top;\n",
       "    }\n",
       "\n",
       "    .dataframe thead th {\n",
       "        text-align: right;\n",
       "    }\n",
       "</style>\n",
       "<table border=\"1\" class=\"dataframe\">\n",
       "  <thead>\n",
       "    <tr style=\"text-align: right;\">\n",
       "      <th></th>\n",
       "      <th>Age</th>\n",
       "      <th>Work_Experience</th>\n",
       "      <th>Family_Size</th>\n",
       "    </tr>\n",
       "  </thead>\n",
       "  <tbody>\n",
       "    <tr>\n",
       "      <td>count</td>\n",
       "      <td>8068.000000</td>\n",
       "      <td>7239.000000</td>\n",
       "      <td>7733.000000</td>\n",
       "    </tr>\n",
       "    <tr>\n",
       "      <td>mean</td>\n",
       "      <td>43.466906</td>\n",
       "      <td>2.641663</td>\n",
       "      <td>2.850123</td>\n",
       "    </tr>\n",
       "    <tr>\n",
       "      <td>std</td>\n",
       "      <td>16.711696</td>\n",
       "      <td>3.406763</td>\n",
       "      <td>1.531413</td>\n",
       "    </tr>\n",
       "    <tr>\n",
       "      <td>min</td>\n",
       "      <td>18.000000</td>\n",
       "      <td>0.000000</td>\n",
       "      <td>1.000000</td>\n",
       "    </tr>\n",
       "    <tr>\n",
       "      <td>25%</td>\n",
       "      <td>30.000000</td>\n",
       "      <td>0.000000</td>\n",
       "      <td>2.000000</td>\n",
       "    </tr>\n",
       "    <tr>\n",
       "      <td>50%</td>\n",
       "      <td>40.000000</td>\n",
       "      <td>1.000000</td>\n",
       "      <td>3.000000</td>\n",
       "    </tr>\n",
       "    <tr>\n",
       "      <td>75%</td>\n",
       "      <td>53.000000</td>\n",
       "      <td>4.000000</td>\n",
       "      <td>4.000000</td>\n",
       "    </tr>\n",
       "    <tr>\n",
       "      <td>max</td>\n",
       "      <td>89.000000</td>\n",
       "      <td>14.000000</td>\n",
       "      <td>9.000000</td>\n",
       "    </tr>\n",
       "  </tbody>\n",
       "</table>\n",
       "</div>"
      ],
      "text/plain": [
       "               Age  Work_Experience  Family_Size\n",
       "count  8068.000000      7239.000000  7733.000000\n",
       "mean     43.466906         2.641663     2.850123\n",
       "std      16.711696         3.406763     1.531413\n",
       "min      18.000000         0.000000     1.000000\n",
       "25%      30.000000         0.000000     2.000000\n",
       "50%      40.000000         1.000000     3.000000\n",
       "75%      53.000000         4.000000     4.000000\n",
       "max      89.000000        14.000000     9.000000"
      ]
     },
     "execution_count": 149,
     "metadata": {},
     "output_type": "execute_result"
    }
   ],
   "source": [
    "train[num_vars].describe()"
   ]
  },
  {
   "cell_type": "code",
   "execution_count": 161,
   "metadata": {
    "scrolled": true
   },
   "outputs": [
    {
     "data": {
      "image/png": "[encoded data removed]",
      "text/plain": [
       "<Figure size 1440x1296 with 6 Axes>"
      ]
     },
     "metadata": {
      "needs_background": "dark"
     },
     "output_type": "display_data"
    }
   ],
   "source": [
    "fig , ax = plt.subplots(3,2, figsize = (20,18))\n",
    "for i in range(3):\n",
    "    for j in range(2):\n",
    "        if(j == 0):\n",
    "            sns.distplot(train[num_vars[i]].dropna(),kde= False,ax = ax[i,j])\n",
    "        if(j == 1):\n",
    "            sns.boxplot(train[num_vars[i]].dropna(),ax = ax[i,j])"
   ]
  },
  {
   "cell_type": "markdown",
   "metadata": {},
   "source": [
    "##### Categorical"
   ]
  },
  {
   "cell_type": "code",
   "execution_count": 156,
   "metadata": {
    "scrolled": false
   },
   "outputs": [
    {
     "name": "stdout",
     "output_type": "stream",
     "text": [
      "\n",
      "Gender:\n",
      "Male      4417\n",
      "Female    3651\n",
      "Name: Gender, dtype: int64\n",
      "\n",
      "Ever_Married:\n",
      "Yes    4643\n",
      "No     3285\n",
      "Name: Ever_Married, dtype: int64\n",
      "\n",
      "Graduated:\n",
      "Yes    4968\n",
      "No     3022\n",
      "Name: Graduated, dtype: int64\n",
      "\n",
      "Profession:\n",
      "Artist           2516\n",
      "Healthcare       1332\n",
      "Entertainment     949\n",
      "Engineer          699\n",
      "Doctor            688\n",
      "Lawyer            623\n",
      "Executive         599\n",
      "Marketing         292\n",
      "Homemaker         246\n",
      "Name: Profession, dtype: int64\n",
      "\n",
      "Spending_Score:\n",
      "Low        4878\n",
      "Average    1974\n",
      "High       1216\n",
      "Name: Spending_Score, dtype: int64\n",
      "\n",
      "Var_1:\n",
      "Cat_6    5238\n",
      "Cat_4    1089\n",
      "Cat_3     822\n",
      "Cat_2     422\n",
      "Cat_7     203\n",
      "Cat_1     133\n",
      "Cat_5      85\n",
      "Name: Var_1, dtype: int64\n"
     ]
    }
   ],
   "source": [
    "for i in range(len(cat_vars)):\n",
    "    print(\"\\n\" + cat_vars[i] + \":\")\n",
    "    print(train[cat_vars[i]].value_counts())"
   ]
  },
  {
   "cell_type": "code",
   "execution_count": 147,
   "metadata": {
    "scrolled": true
   },
   "outputs": [
    {
     "data": {
      "image/png": "[encoded data removed]",
      "text/plain": [
       "<Figure size 1080x2160 with 6 Axes>"
      ]
     },
     "metadata": {
      "needs_background": "dark"
     },
     "output_type": "display_data"
    }
   ],
   "source": [
    "fig , ax = plt.subplots(3,2, figsize=(15,30))\n",
    "count = 0\n",
    "for i in range(3):\n",
    "    for j in range(2):\n",
    "        chart = sns.countplot(x= cat_vars[count],data= train,orient = \"h\",ax= ax[i,j])\n",
    "        if( i==1 and j==1 ):\n",
    "            chart.set_xticklabels(chart.get_xticklabels(), rotation=45)\n",
    "            plt.xlabel(\"Profession\")\n",
    "        count = count + 1"
   ]
  },
  {
   "cell_type": "markdown",
   "metadata": {},
   "source": [
    "#### Bivariate Analysis"
   ]
  },
  {
   "cell_type": "markdown",
   "metadata": {},
   "source": [
    "#### Multivariate Analysis"
   ]
  },
  {
   "cell_type": "markdown",
   "metadata": {},
   "source": [
    "#### Missing Values"
   ]
  },
  {
   "cell_type": "code",
   "execution_count": 23,
   "metadata": {
    "scrolled": false
   },
   "outputs": [
    {
     "data": {
      "text/plain": [
       "Text(0.5, 1.0, 'Percentage of Missing Values in each column')"
      ]
     },
     "execution_count": 23,
     "metadata": {},
     "output_type": "execute_result"
    },
    {
     "data": {
      "image/png": "[encoded data removed]",
      "text/plain": [
       "<Figure size 432x288 with 1 Axes>"
      ]
     },
     "metadata": {
      "needs_background": "dark"
     },
     "output_type": "display_data"
    }
   ],
   "source": [
    "((train.isnull().sum())/len(train)).plot(kind ='bar')\n",
    "plt.xlabel('Features')\n",
    "plt.ylabel('% Count')\n",
    "plt.title('Percentage of Missing Values in each column')"
   ]
  },
  {
   "cell_type": "code",
   "execution_count": null,
   "metadata": {
    "scrolled": false
   },
   "outputs": [],
   "source": []
  },
  {
   "cell_type": "markdown",
   "metadata": {},
   "source": [
    "#### Outliers"
   ]
  },
  {
   "cell_type": "code",
   "execution_count": null,
   "metadata": {
    "scrolled": false
   },
   "outputs": [],
   "source": []
  },
  {
   "cell_type": "code",
   "execution_count": null,
   "metadata": {
    "scrolled": false
   },
   "outputs": [],
   "source": []
  },
  {
   "cell_type": "code",
   "execution_count": null,
   "metadata": {
    "scrolled": false
   },
   "outputs": [],
   "source": []
  },
  {
   "cell_type": "code",
   "execution_count": null,
   "metadata": {
    "scrolled": false
   },
   "outputs": [],
   "source": []
  },
  {
   "cell_type": "markdown",
   "metadata": {},
   "source": [
    "### Create, Fit and Train Model"
   ]
  },
  {
   "cell_type": "markdown",
   "metadata": {},
   "source": [
    "### Performance Measure"
   ]
  },
  {
   "cell_type": "code",
   "execution_count": null,
   "metadata": {
    "scrolled": false
   },
   "outputs": [],
   "source": []
  }
 ],
 "metadata": {
  "kernelspec": {
   "display_name": "Python 3",
   "language": "python",
   "name": "python3"
  },
  "language_info": {
   "codemirror_mode": {
    "name": "ipython",
    "version": 3
   },
   "file_extension": ".py",
   "mimetype": "text/x-python",
   "name": "python",
   "nbconvert_exporter": "python",
   "pygments_lexer": "ipython3",
   "version": "3.7.4"
  },
  "toc": {
   "base_numbering": 1,
   "nav_menu": {},
   "number_sections": true,
   "sideBar": true,
   "skip_h1_title": false,
   "title_cell": "Table of Contents",
   "title_sidebar": "Contents",
   "toc_cell": false,
   "toc_position": {},
   "toc_section_display": true,
   "toc_window_display": true
  }
 },
 "nbformat": 4,
 "nbformat_minor": 2
}
